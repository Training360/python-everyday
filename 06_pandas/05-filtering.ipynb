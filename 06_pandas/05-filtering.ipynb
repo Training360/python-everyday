{
 "cells": [
  {
   "cell_type": "code",
   "execution_count": null,
   "id": "945c6ecd",
   "metadata": {},
   "outputs": [],
   "source": [
    "import pandas as pd"
   ]
  },
  {
   "cell_type": "code",
   "execution_count": null,
   "id": "6338dbcc",
   "metadata": {},
   "outputs": [],
   "source": [
    "employees = [\n",
    "  {\n",
    "    \"id\": 1,\n",
    "    \"first_name\": \"Jayne\",\n",
    "    \"last_name\": \"Burchmore\",\n",
    "    \"email\": \"jburchmore0@unicef.org\",\n",
    "    \"gender\": \"Female\",\n",
    "    \"yearly_salary\": 78395,\n",
    "    \"years_of_experience\": 23\n",
    "  },\n",
    "  {\n",
    "    \"id\": 2,\n",
    "    \"first_name\": \"Anna\",\n",
    "    \"last_name\": \"De Paoli\",\n",
    "    \"email\": \"adepaoli1@t.co\",\n",
    "    \"gender\": \"Female\",\n",
    "    \"yearly_salary\": 102972,\n",
    "    \"years_of_experience\": 28\n",
    "  },\n",
    "  {\n",
    "    \"id\": 3,\n",
    "    \"first_name\": \"Abbott\",\n",
    "    \"last_name\": \"Itzchaki\",\n",
    "    \"email\": \"aitzchaki2@bloglovin.com\",\n",
    "    \"gender\": \"Male\",\n",
    "    \"yearly_salary\": 178876,\n",
    "    \"years_of_experience\": 12\n",
    "  },\n",
    "]"
   ]
  },
  {
   "cell_type": "code",
   "execution_count": null,
   "metadata": {},
   "outputs": [],
   "source": [
    "df = pd.DataFrame(employees)\n",
    "df"
   ]
  },
  {
   "cell_type": "code",
   "execution_count": null,
   "metadata": {},
   "outputs": [],
   "source": [
    "filt = df['last_name'] == 'Burchmore'\n",
    "filt"
   ]
  },
  {
   "cell_type": "code",
   "execution_count": null,
   "metadata": {},
   "outputs": [],
   "source": [
    "df[filt]"
   ]
  },
  {
   "cell_type": "code",
   "execution_count": null,
   "metadata": {},
   "outputs": [],
   "source": [
    "df.loc[filt]"
   ]
  },
  {
   "cell_type": "code",
   "execution_count": null,
   "metadata": {},
   "outputs": [],
   "source": [
    "df.loc[filt, 'email']"
   ]
  },
  {
   "cell_type": "code",
   "execution_count": null,
   "metadata": {},
   "outputs": [],
   "source": [
    "filt2 = (df['first_name'] == 'Abbott') & (df['last_name'] == 'Itzchaki')"
   ]
  },
  {
   "cell_type": "code",
   "execution_count": null,
   "metadata": {},
   "outputs": [],
   "source": [
    "df.loc[filt2, 'email']"
   ]
  },
  {
   "cell_type": "code",
   "execution_count": null,
   "metadata": {},
   "outputs": [],
   "source": [
    "filt3 = (df['first_name'] == 'John') | (df['last_name'] == 'Burchmore')"
   ]
  },
  {
   "cell_type": "code",
   "execution_count": null,
   "metadata": {},
   "outputs": [],
   "source": [
    "df.loc[filt3, 'email']"
   ]
  },
  {
   "cell_type": "code",
   "execution_count": null,
   "metadata": {},
   "outputs": [],
   "source": [
    "# negate filter\n",
    "df.loc[~filt3, 'email']"
   ]
  },
  {
   "cell_type": "code",
   "execution_count": null,
   "metadata": {},
   "outputs": [],
   "source": [
    "filt4 = (df['yearly_salary'] > 100000) & (df['years_of_experience'] > 20)\n",
    "df.loc[filt4]"
   ]
  },
  {
   "cell_type": "code",
   "execution_count": null,
   "metadata": {},
   "outputs": [],
   "source": [
    "# Szűrés hiányzó értékek alapján\n",
    "df[df['email'].notna()]  # Csak azok a sorok, ahol az email nem hiányzik\n",
    "df[df['email'].isna()]   # Csak azok a sorok, ahol az email hiányzik"
   ]
  }
 ],
 "metadata": {
  "kernelspec": {
   "display_name": "Python 3",
   "language": "python",
   "name": "python3"
  },
  "language_info": {
   "codemirror_mode": {
    "name": "ipython",
    "version": 3
   },
   "file_extension": ".py",
   "mimetype": "text/x-python",
   "name": "python",
   "nbconvert_exporter": "python",
   "pygments_lexer": "ipython3",
   "version": "3.13.2"
  },
  "orig_nbformat": 4,
  "vscode": {
   "interpreter": {
    "hash": "c261aea317cc0286b3b3261fbba9abdec21eaa57589985bb7a274bf54d6cc0a7"
   }
  }
 },
 "nbformat": 4,
 "nbformat_minor": 2
}
