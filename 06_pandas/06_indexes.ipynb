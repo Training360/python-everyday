{
 "cells": [
  {
   "cell_type": "code",
   "execution_count": null,
   "id": "c9948249",
   "metadata": {},
   "outputs": [],
   "source": [
    "import pandas as pd"
   ]
  },
  {
   "cell_type": "code",
   "execution_count": null,
   "id": "4aa45f0a",
   "metadata": {},
   "outputs": [],
   "source": [
    "employees = [\n",
    "  {\n",
    "    \"id\": 1,\n",
    "    \"first_name\": \"Jayne\",\n",
    "    \"last_name\": \"Burchmore\",\n",
    "    \"email\": \"jburchmore0@unicef.org\",\n",
    "    \"gender\": \"Female\",\n",
    "    \"yearly_salary\": 78395,\n",
    "    \"years_of_experience\": 23\n",
    "  },\n",
    "  {\n",
    "    \"id\": 2,\n",
    "    \"first_name\": \"Anna\",\n",
    "    \"last_name\": \"De Paoli\",\n",
    "    \"email\": \"adepaoli1@t.co\",\n",
    "    \"gender\": \"Female\",\n",
    "    \"yearly_salary\": 102972,\n",
    "    \"years_of_experience\": 28\n",
    "  },\n",
    "  {\n",
    "    \"id\": 3,\n",
    "    \"first_name\": \"Abbott\",\n",
    "    \"last_name\": \"Itzchaki\",\n",
    "    \"email\": \"aitzchaki2@bloglovin.com\",\n",
    "    \"gender\": \"Male\",\n",
    "    \"yearly_salary\": 178876,\n",
    "    \"years_of_experience\": 12\n",
    "  },\n",
    "]"
   ]
  },
  {
   "cell_type": "code",
   "execution_count": null,
   "id": "d263ee4e",
   "metadata": {},
   "outputs": [],
   "source": [
    "df_employees_list = pd.DataFrame(employees)\n",
    "df_employees_list"
   ]
  },
  {
   "cell_type": "code",
   "execution_count": null,
   "id": "ec669f65",
   "metadata": {},
   "outputs": [],
   "source": [
    "df_employees_list.set_index(\"email\", inplace=True)\n",
    "df_employees_list"
   ]
  },
  {
   "cell_type": "code",
   "execution_count": null,
   "id": "4d7b1f43",
   "metadata": {},
   "outputs": [],
   "source": [
    "# Többszintű index létrehozása\n",
    "df_multi = df_employees_list.copy()\n",
    "df_multi['domain'] = df_multi.index.str.split('@').str[1]\n",
    "df_multi = df_multi.reset_index().set_index(['domain', 'id'])\n",
    "df_multi"
   ]
  },
  {
   "cell_type": "code",
   "execution_count": null,
   "id": "73aed871",
   "metadata": {},
   "outputs": [],
   "source": [
    "df_employees_list.loc[\"jburchmore0@unicef.org\"]"
   ]
  },
  {
   "cell_type": "code",
   "execution_count": null,
   "id": "76bae182",
   "metadata": {},
   "outputs": [],
   "source": [
    "df_from_csv = pd.read_csv(\"../files/survey_results_public.csv\", index_col='Respondent')\n",
    "df_from_csv.sort_index()"
   ]
  },
  {
   "cell_type": "code",
   "execution_count": null,
   "id": "42ca8dbc",
   "metadata": {},
   "outputs": [],
   "source": [
    "df_from_csv.sort_index()"
   ]
  },
  {
   "cell_type": "code",
   "execution_count": null,
   "id": "1a912a59",
   "metadata": {},
   "outputs": [],
   "source": [
    "df_from_csv.sort_index(ascending=False)"
   ]
  },
  {
   "cell_type": "code",
   "execution_count": null,
   "id": "dfaaf62f",
   "metadata": {},
   "outputs": [],
   "source": [
    "df_from_csv.reset_index()  # új numerikus index jön létre"
   ]
  },
  {
   "cell_type": "code",
   "execution_count": null,
   "id": "8b44641e",
   "metadata": {},
   "outputs": [],
   "source": [
    "# Sorok indexei\n",
    "df_from_csv.axes[0]  # RangeIndex(start=0, stop=3, step=1)"
   ]
  },
  {
   "cell_type": "code",
   "execution_count": null,
   "id": "024904d2",
   "metadata": {},
   "outputs": [],
   "source": [
    "# Oszlopok nevei\n",
    "df_from_csv.axes[1]"
   ]
  }
 ],
 "metadata": {
  "kernelspec": {
   "display_name": "Python 3",
   "language": "python",
   "name": "python3"
  },
  "language_info": {
   "codemirror_mode": {
    "name": "ipython",
    "version": 3
   },
   "file_extension": ".py",
   "mimetype": "text/x-python",
   "name": "python",
   "nbconvert_exporter": "python",
   "pygments_lexer": "ipython3",
   "version": "3.13.2"
  }
 },
 "nbformat": 4,
 "nbformat_minor": 5
}
