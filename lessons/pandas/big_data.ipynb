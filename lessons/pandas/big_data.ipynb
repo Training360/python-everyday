{
 "cells": [
  {
   "cell_type": "code",
   "execution_count": 7,
   "id": "807fde75",
   "metadata": {},
   "outputs": [],
   "source": [
    "import pandas as pd"
   ]
  },
  {
   "cell_type": "code",
   "execution_count": 8,
   "id": "9443bb60",
   "metadata": {},
   "outputs": [],
   "source": [
    "# Initialize results (e.g., a counter or aggregation)\n",
    "total_count = 0\n",
    "sum_values = 0"
   ]
  },
  {
   "cell_type": "code",
   "execution_count": null,
   "id": "1b1e231a",
   "metadata": {},
   "outputs": [
    {
     "data": {
      "text/plain": [
       "(27461, np.float64(537173.0), np.float64(19.561305123629875))"
      ]
     },
     "execution_count": 14,
     "metadata": {},
     "output_type": "execute_result"
    }
   ],
   "source": [
    "# Process without storing all chunks\n",
    "threshold = 10 \n",
    "# File feldolgozása chunkokban\n",
    "# A chunksize értékét a rendelkezésre álló memória és a fájl mérete alapján válasszuk meg.\n",
    "# Például: ha a fájl nagyon nagy, kisebb chunksize értéket használjunk (pl. 1000 vagy 10 000),\n",
    "# hogy elkerüljük a memória túlterhelését. Ha több memória áll rendelkezésre, nagyobb értéket is választhatunk.\n",
    "for chunk in pd.read_csv(\"../files/survey_results_public.csv\", chunksize=1000):\n",
    "  chunk['YearsCode'] = pd.to_numeric(chunk['YearsCode'], errors='coerce')\n",
    "  filtered = chunk[(chunk['YearsCode'] > threshold) & (~chunk['YearsCode'].isna())]\n",
    "  total_count += len(filtered)\n",
    "  sum_values += filtered['YearsCode'].sum()\n",
    "\n",
    "average = sum_values / total_count if total_count > 0 else 0\n",
    "\n",
    "total_count, sum_values, average"
   ]
  },
  {
   "cell_type": "code",
   "execution_count": null,
   "id": "04ec2809",
   "metadata": {},
   "outputs": [],
   "source": [
    "import pandas as pd\n",
    "import concurrent.futures\n",
    "\n",
    "def process_chunk(chunk, threshold):\n",
    "    \"\"\"Process a single chunk and return results\"\"\"\n",
    "    filtered = chunk[chunk['important_column'] > threshold]\n",
    "    count = len(filtered)\n",
    "    sum_val = filtered['value_column'].sum() if count > 0 else 0\n",
    "    return (count, sum_val)\n",
    "\n",
    "# File to process\n",
    "file_path = \"./large_file.csv\"\n",
    "chunksize = 1000000  # Adjust based on memory and file size\n",
    "threshold = 100  # Example threshold\n",
    "\n",
    "chunks = pd.read_csv(file_path, chunksize=chunksize)\n",
    "\n",
    "total_count = 0\n",
    "total_sum = 0\n",
    "\n",
    "# Process in parallel with automatic process management\n",
    "with concurrent.futures.ProcessPoolExecutor() as executor:\n",
    "    results = executor.map(process_chunk, chunks, [threshold] * len(chunks))\n",
    "    \n",
    "    for count, sum_val in results:\n",
    "        total_count += count\n",
    "        total_sum += sum_val\n",
    "\n",
    "# Calculate final average\n",
    "average = total_sum / total_count if total_count > 0 else 0\n"
   ]
  }
 ],
 "metadata": {
  "kernelspec": {
   "display_name": "Python 3",
   "language": "python",
   "name": "python3"
  },
  "language_info": {
   "codemirror_mode": {
    "name": "ipython",
    "version": 3
   },
   "file_extension": ".py",
   "mimetype": "text/x-python",
   "name": "python",
   "nbconvert_exporter": "python",
   "pygments_lexer": "ipython3",
   "version": "3.13.2"
  }
 },
 "nbformat": 4,
 "nbformat_minor": 5
}
