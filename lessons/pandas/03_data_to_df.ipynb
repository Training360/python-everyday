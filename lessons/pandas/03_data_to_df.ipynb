{
 "cells": [
  {
   "cell_type": "code",
   "execution_count": 3,
   "metadata": {},
   "outputs": [],
   "source": [
    "import pandas as pd"
   ]
  },
  {
   "cell_type": "code",
   "execution_count": 4,
   "metadata": {},
   "outputs": [],
   "source": [
    "employees = [\n",
    "  {\n",
    "    \"id\": 1,\n",
    "    \"first_name\": \"Jayne\",\n",
    "    \"last_name\": \"Burchmore\",\n",
    "    \"email\": \"jburchmore0@unicef.org\",\n",
    "    \"gender\": \"Female\",\n",
    "    \"yearly_salary\": 78395,\n",
    "    \"years_of_experience\": 23\n",
    "  },\n",
    "  {\n",
    "    \"id\": 2,\n",
    "    \"first_name\": \"Anna\",\n",
    "    \"last_name\": \"De Paoli\",\n",
    "    \"email\": \"adepaoli1@t.co\",\n",
    "    \"gender\": \"Female\",\n",
    "    \"yearly_salary\": 102972,\n",
    "    \"years_of_experience\": 28\n",
    "  },\n",
    "  {\n",
    "    \"id\": 3,\n",
    "    \"first_name\": \"Abbott\",\n",
    "    \"last_name\": \"Itzchaki\",\n",
    "    \"email\": \"aitzchaki2@bloglovin.com\",\n",
    "    \"gender\": \"Male\",\n",
    "    \"yearly_salary\": 178876,\n",
    "    \"years_of_experience\": 12\n",
    "  },\n",
    "]"
   ]
  },
  {
   "cell_type": "code",
   "execution_count": 5,
   "metadata": {},
   "outputs": [
    {
     "data": {
      "text/html": [
       "<div>\n",
       "<style scoped>\n",
       "    .dataframe tbody tr th:only-of-type {\n",
       "        vertical-align: middle;\n",
       "    }\n",
       "\n",
       "    .dataframe tbody tr th {\n",
       "        vertical-align: top;\n",
       "    }\n",
       "\n",
       "    .dataframe thead th {\n",
       "        text-align: right;\n",
       "    }\n",
       "</style>\n",
       "<table border=\"1\" class=\"dataframe\">\n",
       "  <thead>\n",
       "    <tr style=\"text-align: right;\">\n",
       "      <th></th>\n",
       "      <th>id</th>\n",
       "      <th>first_name</th>\n",
       "      <th>last_name</th>\n",
       "      <th>email</th>\n",
       "      <th>gender</th>\n",
       "      <th>yearly_salary</th>\n",
       "      <th>years_of_experience</th>\n",
       "    </tr>\n",
       "  </thead>\n",
       "  <tbody>\n",
       "    <tr>\n",
       "      <th>0</th>\n",
       "      <td>1</td>\n",
       "      <td>Jayne</td>\n",
       "      <td>Burchmore</td>\n",
       "      <td>jburchmore0@unicef.org</td>\n",
       "      <td>Female</td>\n",
       "      <td>78395</td>\n",
       "      <td>23</td>\n",
       "    </tr>\n",
       "    <tr>\n",
       "      <th>1</th>\n",
       "      <td>2</td>\n",
       "      <td>Anna</td>\n",
       "      <td>De Paoli</td>\n",
       "      <td>adepaoli1@t.co</td>\n",
       "      <td>Female</td>\n",
       "      <td>102972</td>\n",
       "      <td>28</td>\n",
       "    </tr>\n",
       "    <tr>\n",
       "      <th>2</th>\n",
       "      <td>3</td>\n",
       "      <td>Abbott</td>\n",
       "      <td>Itzchaki</td>\n",
       "      <td>aitzchaki2@bloglovin.com</td>\n",
       "      <td>Male</td>\n",
       "      <td>178876</td>\n",
       "      <td>12</td>\n",
       "    </tr>\n",
       "  </tbody>\n",
       "</table>\n",
       "</div>"
      ],
      "text/plain": [
       "   id first_name  last_name                     email  gender  yearly_salary  \\\n",
       "0   1      Jayne  Burchmore    jburchmore0@unicef.org  Female          78395   \n",
       "1   2       Anna   De Paoli            adepaoli1@t.co  Female         102972   \n",
       "2   3     Abbott   Itzchaki  aitzchaki2@bloglovin.com    Male         178876   \n",
       "\n",
       "   years_of_experience  \n",
       "0                   23  \n",
       "1                   28  \n",
       "2                   12  "
      ]
     },
     "execution_count": 5,
     "metadata": {},
     "output_type": "execute_result"
    }
   ],
   "source": [
    "df_from_emplyess_list = pd.DataFrame(employees)\n",
    "df_from_emplyess_list\n",
    "\n",
    "# Alapértelmezett index\n",
    "# Pandas alapértelmezetten egy RangeIndex-et használ, ami egy 0-tól kezdődő egész szám sorozat:\n",
    "\n",
    "# 0, 1, 2, 3, stb.\n",
    "# Ez automatikusan létrejön, amikor DataFrame-et hozol létre\n",
    "# Minden sorhoz egy sorszám rendelődik\n",
    "# Nem egyedi indexek\n",
    "# A komment (\"index is not always unique\") arra utal, hogy az index értékek nem feltétlenül egyediek:\n",
    "\n",
    "# Pandas megengedi az ismétlődő indexértékeket - nem kényszeríti ki az egyediséget\n",
    "# Amikor egy oszlopot indexként használsz (set_index), és abban ismétlődő értékek vannak, az index is ismétlődő lesz\n",
    "# Akkor is ha két df-et kombinálsz az automatikus indexelés miatt ugyanazon idexek lesznek használva"
   ]
  },
  {
   "cell_type": "code",
   "execution_count": 6,
   "metadata": {},
   "outputs": [],
   "source": [
    "# index is not always unique\n",
    "# Ha inplace=True:\n",
    "  # Az eredeti DataFrame közvetlenül módosul\n",
    "  # Nincs szükség az eredmény visszaadására\n",
    "  # A függvény None értéket ad vissza\n",
    "  # Memóriát takarít meg, mivel nem készít másolatot\n",
    "  # A változások azonnal láthatóak az eredeti változóban\n",
    "# Ha inplace=False (alapértelmezett):\n",
    "  # Az eredeti DataFrame változatlan marad\n",
    "  # Új DataFrame-et hoz létre és ad vissza\n",
    "  # A változások megtartásához a visszatérési értéket egy változóba kell menteni\n",
    "  # Átmenetileg több memóriát használ\n",
    "df_from_emplyess_list.set_index('email', inplace=True)"
   ]
  },
  {
   "cell_type": "code",
   "execution_count": 7,
   "metadata": {},
   "outputs": [
    {
     "data": {
      "text/plain": [
       "Index(['jburchmore0@unicef.org', 'adepaoli1@t.co', 'aitzchaki2@bloglovin.com'], dtype='object', name='email')"
      ]
     },
     "execution_count": 7,
     "metadata": {},
     "output_type": "execute_result"
    }
   ],
   "source": [
    "df_from_emplyess_list.index"
   ]
  },
  {
   "cell_type": "code",
   "execution_count": 8,
   "metadata": {},
   "outputs": [
    {
     "data": {
      "text/plain": [
       "id                             1\n",
       "first_name                 Jayne\n",
       "last_name              Burchmore\n",
       "gender                    Female\n",
       "yearly_salary              78395\n",
       "years_of_experience           23\n",
       "Name: jburchmore0@unicef.org, dtype: object"
      ]
     },
     "execution_count": 8,
     "metadata": {},
     "output_type": "execute_result"
    }
   ],
   "source": [
    "df_from_emplyess_list.loc['jburchmore0@unicef.org']"
   ]
  },
  {
   "cell_type": "code",
   "execution_count": 9,
   "metadata": {},
   "outputs": [],
   "source": [
    "employees_dict = {\n",
    "    \"id\": [1, 2, 3],\n",
    "    \"first_name\": [\"Jayne\", \"Anna\", \"Abbott\"],\n",
    "    \"last_name\": [\"Burchmore\", \"De Paoli\", \"Itzchaki\"],\n",
    "    \"email\": [\"jburchmore0@unicef.org\", \"adepaoli1@t.co\", \"aitzchaki2@bloglovin.com\"],\n",
    "    \"gender\": [\"Female\", \"Female\", \"Male\"],\n",
    "    \"yearly_salary\": [78395, 102972, 178876],\n",
    "    \"years_of_experience\": [23, 28, 12]\n",
    "}"
   ]
  },
  {
   "cell_type": "code",
   "execution_count": 10,
   "metadata": {},
   "outputs": [
    {
     "data": {
      "text/html": [
       "<div>\n",
       "<style scoped>\n",
       "    .dataframe tbody tr th:only-of-type {\n",
       "        vertical-align: middle;\n",
       "    }\n",
       "\n",
       "    .dataframe tbody tr th {\n",
       "        vertical-align: top;\n",
       "    }\n",
       "\n",
       "    .dataframe thead th {\n",
       "        text-align: right;\n",
       "    }\n",
       "</style>\n",
       "<table border=\"1\" class=\"dataframe\">\n",
       "  <thead>\n",
       "    <tr style=\"text-align: right;\">\n",
       "      <th></th>\n",
       "      <th>id</th>\n",
       "      <th>first_name</th>\n",
       "      <th>last_name</th>\n",
       "      <th>email</th>\n",
       "      <th>gender</th>\n",
       "      <th>yearly_salary</th>\n",
       "      <th>years_of_experience</th>\n",
       "    </tr>\n",
       "  </thead>\n",
       "  <tbody>\n",
       "    <tr>\n",
       "      <th>0</th>\n",
       "      <td>1</td>\n",
       "      <td>Jayne</td>\n",
       "      <td>Burchmore</td>\n",
       "      <td>jburchmore0@unicef.org</td>\n",
       "      <td>Female</td>\n",
       "      <td>78395</td>\n",
       "      <td>23</td>\n",
       "    </tr>\n",
       "    <tr>\n",
       "      <th>1</th>\n",
       "      <td>2</td>\n",
       "      <td>Anna</td>\n",
       "      <td>De Paoli</td>\n",
       "      <td>adepaoli1@t.co</td>\n",
       "      <td>Female</td>\n",
       "      <td>102972</td>\n",
       "      <td>28</td>\n",
       "    </tr>\n",
       "    <tr>\n",
       "      <th>2</th>\n",
       "      <td>3</td>\n",
       "      <td>Abbott</td>\n",
       "      <td>Itzchaki</td>\n",
       "      <td>aitzchaki2@bloglovin.com</td>\n",
       "      <td>Male</td>\n",
       "      <td>178876</td>\n",
       "      <td>12</td>\n",
       "    </tr>\n",
       "  </tbody>\n",
       "</table>\n",
       "</div>"
      ],
      "text/plain": [
       "   id first_name  last_name                     email  gender  yearly_salary  \\\n",
       "0   1      Jayne  Burchmore    jburchmore0@unicef.org  Female          78395   \n",
       "1   2       Anna   De Paoli            adepaoli1@t.co  Female         102972   \n",
       "2   3     Abbott   Itzchaki  aitzchaki2@bloglovin.com    Male         178876   \n",
       "\n",
       "   years_of_experience  \n",
       "0                   23  \n",
       "1                   28  \n",
       "2                   12  "
      ]
     },
     "execution_count": 10,
     "metadata": {},
     "output_type": "execute_result"
    }
   ],
   "source": [
    "df_from_eployees_dict = pd.DataFrame(employees_dict)\n",
    "df_from_eployees_dict"
   ]
  },
  {
   "cell_type": "code",
   "execution_count": 11,
   "metadata": {},
   "outputs": [],
   "source": [
    "employees_list = [\n",
    "    [1, \"Jayne\", \"Burchmore\", \"jburchmore0@unicef.org\", \"Female\", 78395, 23],\n",
    "    [2, \"Anna\", \"De Paoli\", \"adepaoli1@t.co\", \"Female\", 102972, 28],\n",
    "    [3, \"Abbott\", \"Itzchaki\", \"aitzchaki2@bloglovin.com\", \"Male\", 178876, 12]\n",
    "]\n",
    "\n",
    "columns = [\"id\", \"first_name\", \"last_name\", \"email\", \"gender\", \"yearly_salary\", \"years_of_experience\"]"
   ]
  },
  {
   "cell_type": "code",
   "execution_count": 12,
   "metadata": {},
   "outputs": [
    {
     "data": {
      "text/html": [
       "<div>\n",
       "<style scoped>\n",
       "    .dataframe tbody tr th:only-of-type {\n",
       "        vertical-align: middle;\n",
       "    }\n",
       "\n",
       "    .dataframe tbody tr th {\n",
       "        vertical-align: top;\n",
       "    }\n",
       "\n",
       "    .dataframe thead th {\n",
       "        text-align: right;\n",
       "    }\n",
       "</style>\n",
       "<table border=\"1\" class=\"dataframe\">\n",
       "  <thead>\n",
       "    <tr style=\"text-align: right;\">\n",
       "      <th></th>\n",
       "      <th>id</th>\n",
       "      <th>first_name</th>\n",
       "      <th>last_name</th>\n",
       "      <th>email</th>\n",
       "      <th>gender</th>\n",
       "      <th>yearly_salary</th>\n",
       "      <th>years_of_experience</th>\n",
       "    </tr>\n",
       "  </thead>\n",
       "  <tbody>\n",
       "    <tr>\n",
       "      <th>0</th>\n",
       "      <td>1</td>\n",
       "      <td>Jayne</td>\n",
       "      <td>Burchmore</td>\n",
       "      <td>jburchmore0@unicef.org</td>\n",
       "      <td>Female</td>\n",
       "      <td>78395</td>\n",
       "      <td>23</td>\n",
       "    </tr>\n",
       "    <tr>\n",
       "      <th>1</th>\n",
       "      <td>2</td>\n",
       "      <td>Anna</td>\n",
       "      <td>De Paoli</td>\n",
       "      <td>adepaoli1@t.co</td>\n",
       "      <td>Female</td>\n",
       "      <td>102972</td>\n",
       "      <td>28</td>\n",
       "    </tr>\n",
       "    <tr>\n",
       "      <th>2</th>\n",
       "      <td>3</td>\n",
       "      <td>Abbott</td>\n",
       "      <td>Itzchaki</td>\n",
       "      <td>aitzchaki2@bloglovin.com</td>\n",
       "      <td>Male</td>\n",
       "      <td>178876</td>\n",
       "      <td>12</td>\n",
       "    </tr>\n",
       "  </tbody>\n",
       "</table>\n",
       "</div>"
      ],
      "text/plain": [
       "   id first_name  last_name                     email  gender  yearly_salary  \\\n",
       "0   1      Jayne  Burchmore    jburchmore0@unicef.org  Female          78395   \n",
       "1   2       Anna   De Paoli            adepaoli1@t.co  Female         102972   \n",
       "2   3     Abbott   Itzchaki  aitzchaki2@bloglovin.com    Male         178876   \n",
       "\n",
       "   years_of_experience  \n",
       "0                   23  \n",
       "1                   28  \n",
       "2                   12  "
      ]
     },
     "execution_count": 12,
     "metadata": {},
     "output_type": "execute_result"
    }
   ],
   "source": [
    "df_from_two_dimensional_list = pd.DataFrame(employees_list, columns=columns)\n",
    "df_from_two_dimensional_list"
   ]
  },
  {
   "cell_type": "code",
   "execution_count": null,
   "metadata": {},
   "outputs": [
    {
     "name": "stderr",
     "output_type": "stream",
     "text": [
      "C:\\Users\\pryan\\AppData\\Local\\Temp\\ipykernel_19744\\3375890055.py:7: FutureWarning: Passing literal json to 'read_json' is deprecated and will be removed in a future version. To read from a literal string, wrap it in a 'StringIO' object.\n",
      "  df_json_str = pd.read_json(json_str)\n"
     ]
    },
    {
     "data": {
      "text/html": [
       "<div>\n",
       "<style scoped>\n",
       "    .dataframe tbody tr th:only-of-type {\n",
       "        vertical-align: middle;\n",
       "    }\n",
       "\n",
       "    .dataframe tbody tr th {\n",
       "        vertical-align: top;\n",
       "    }\n",
       "\n",
       "    .dataframe thead th {\n",
       "        text-align: right;\n",
       "    }\n",
       "</style>\n",
       "<table border=\"1\" class=\"dataframe\">\n",
       "  <thead>\n",
       "    <tr style=\"text-align: right;\">\n",
       "      <th></th>\n",
       "      <th>id</th>\n",
       "      <th>name</th>\n",
       "      <th>department</th>\n",
       "    </tr>\n",
       "  </thead>\n",
       "  <tbody>\n",
       "    <tr>\n",
       "      <th>0</th>\n",
       "      <td>1</td>\n",
       "      <td>John</td>\n",
       "      <td>IT</td>\n",
       "    </tr>\n",
       "    <tr>\n",
       "      <th>1</th>\n",
       "      <td>2</td>\n",
       "      <td>Anna</td>\n",
       "      <td>HR</td>\n",
       "    </tr>\n",
       "    <tr>\n",
       "      <th>2</th>\n",
       "      <td>3</td>\n",
       "      <td>Peter</td>\n",
       "      <td>IT</td>\n",
       "    </tr>\n",
       "  </tbody>\n",
       "</table>\n",
       "</div>"
      ],
      "text/plain": [
       "   id   name department\n",
       "0   1   John         IT\n",
       "1   2   Anna         HR\n",
       "2   3  Peter         IT"
      ]
     },
     "execution_count": 13,
     "metadata": {},
     "output_type": "execute_result"
    }
   ],
   "source": [
    "\n",
    "# JSON from string\n",
    "json_str = \"\"\"[\n",
    "  {\"id\": 1, \"name\": \"John\", \"department\": \"IT\"},\n",
    "  {\"id\": 2, \"name\": \"Anna\", \"department\": \"HR\"},\n",
    "  {\"id\": 3, \"name\": \"Peter\", \"department\": \"IT\"}\n",
    "]\"\"\"\n",
    "\n",
    "df_json_str = pd.read_json(json_str)\n",
    "df_json_str"
   ]
  }
 ],
 "metadata": {
  "kernelspec": {
   "display_name": "Python 3",
   "language": "python",
   "name": "python3"
  },
  "language_info": {
   "codemirror_mode": {
    "name": "ipython",
    "version": 3
   },
   "file_extension": ".py",
   "mimetype": "text/x-python",
   "name": "python",
   "nbconvert_exporter": "python",
   "pygments_lexer": "ipython3",
   "version": "3.13.2"
  }
 },
 "nbformat": 4,
 "nbformat_minor": 2
}
