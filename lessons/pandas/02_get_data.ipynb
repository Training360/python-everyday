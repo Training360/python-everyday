{
 "cells": [
  {
   "cell_type": "code",
   "execution_count": 22,
   "metadata": {},
   "outputs": [],
   "source": [
    "import pandas as pd"
   ]
  },
  {
   "cell_type": "code",
   "execution_count": 23,
   "metadata": {},
   "outputs": [],
   "source": [
    "df = pd.read_csv(\"../files/survey_results_public.csv\")"
   ]
  },
  {
   "cell_type": "code",
   "execution_count": 24,
   "metadata": {},
   "outputs": [
    {
     "data": {
      "text/plain": [
       "Index(['Respondent', 'MainBranch', 'Hobbyist', 'Age', 'Age1stCode', 'CompFreq',\n",
       "       'CompTotal', 'ConvertedComp', 'Country', 'CurrencyDesc',\n",
       "       'CurrencySymbol', 'DatabaseDesireNextYear', 'DatabaseWorkedWith',\n",
       "       'DevType', 'EdLevel', 'Employment', 'Ethnicity', 'Gender', 'JobFactors',\n",
       "       'JobSat', 'JobSeek', 'LanguageDesireNextYear', 'LanguageWorkedWith',\n",
       "       'MiscTechDesireNextYear', 'MiscTechWorkedWith',\n",
       "       'NEWCollabToolsDesireNextYear', 'NEWCollabToolsWorkedWith', 'NEWDevOps',\n",
       "       'NEWDevOpsImpt', 'NEWEdImpt', 'NEWJobHunt', 'NEWJobHuntResearch',\n",
       "       'NEWLearn', 'NEWOffTopic', 'NEWOnboardGood', 'NEWOtherComms',\n",
       "       'NEWOvertime', 'NEWPurchaseResearch', 'NEWPurpleLink', 'NEWSOSites',\n",
       "       'NEWStuck', 'OpSys', 'OrgSize', 'PlatformDesireNextYear',\n",
       "       'PlatformWorkedWith', 'PurchaseWhat', 'Sexuality', 'SOAccount',\n",
       "       'SOComm', 'SOPartFreq', 'SOVisitFreq', 'SurveyEase', 'SurveyLength',\n",
       "       'Trans', 'UndergradMajor', 'WebframeDesireNextYear',\n",
       "       'WebframeWorkedWith', 'WelcomeChange', 'WorkWeekHrs', 'YearsCode',\n",
       "       'YearsCodePro'],\n",
       "      dtype='object')"
      ]
     },
     "execution_count": 24,
     "metadata": {},
     "output_type": "execute_result"
    }
   ],
   "source": [
    "df.columns"
   ]
  },
  {
   "cell_type": "code",
   "execution_count": 25,
   "metadata": {},
   "outputs": [
    {
     "data": {
      "text/plain": [
       "0                   Germany\n",
       "1            United Kingdom\n",
       "2        Russian Federation\n",
       "3                   Albania\n",
       "4             United States\n",
       "                ...        \n",
       "64456         United States\n",
       "64457               Morocco\n",
       "64458              Viet Nam\n",
       "64459                Poland\n",
       "64460                 Spain\n",
       "Name: Country, Length: 64461, dtype: object"
      ]
     },
     "execution_count": 25,
     "metadata": {},
     "output_type": "execute_result"
    }
   ],
   "source": [
    "df[\"Country\"]"
   ]
  },
  {
   "cell_type": "code",
   "execution_count": 26,
   "metadata": {},
   "outputs": [
    {
     "data": {
      "text/plain": [
       "Age\n",
       "25.0    2693\n",
       "28.0    2412\n",
       "30.0    2406\n",
       "26.0    2391\n",
       "27.0    2338\n",
       "        ... \n",
       "88.0       1\n",
       "16.5       1\n",
       "23.4       1\n",
       "95.0       1\n",
       "14.5       1\n",
       "Name: count, Length: 110, dtype: int64"
      ]
     },
     "execution_count": 26,
     "metadata": {},
     "output_type": "execute_result"
    }
   ],
   "source": [
    "# sum data by groups\n",
    "df[\"Age\"].value_counts()"
   ]
  },
  {
   "cell_type": "code",
   "execution_count": null,
   "metadata": {},
   "outputs": [
    {
     "data": {
      "text/plain": [
       "Respondent                                                  1\n",
       "MainBranch                     I am a developer by profession\n",
       "Hobbyist                                                  Yes\n",
       "Age                                                       NaN\n",
       "Age1stCode                                                 13\n",
       "                                       ...                   \n",
       "WebframeWorkedWith                       ASP.NET;ASP.NET Core\n",
       "WelcomeChange         Just as welcome now as I felt last year\n",
       "WorkWeekHrs                                              50.0\n",
       "YearsCode                                                  36\n",
       "YearsCodePro                                               27\n",
       "Name: 0, Length: 61, dtype: object"
      ]
     },
     "execution_count": 27,
     "metadata": {},
     "output_type": "execute_result"
    }
   ],
   "source": [
    "# the first respondent, Label-based indexing\n",
    "df.loc[0]"
   ]
  },
  {
   "cell_type": "code",
   "execution_count": null,
   "metadata": {},
   "outputs": [],
   "source": [
    "# country of the first respondent\n",
    "df.loc[0, \"Country\"]"
   ]
  },
  {
   "cell_type": "code",
   "execution_count": null,
   "metadata": {},
   "outputs": [],
   "source": [
    "df.at[0, 'Country']"
   ]
  },
  {
   "cell_type": "code",
   "execution_count": null,
   "metadata": {},
   "outputs": [],
   "source": [
    "# country of three respondent\n",
    "df.loc[[0, 5, 8], \"Country\"]"
   ]
  },
  {
   "cell_type": "code",
   "execution_count": null,
   "metadata": {},
   "outputs": [],
   "source": [
    "# country of the first three respondent\n",
    "df.loc[0:2, \"Country\"]"
   ]
  },
  {
   "cell_type": "code",
   "execution_count": null,
   "metadata": {},
   "outputs": [],
   "source": [
    "# datas from Age, EdLevel, Country of the first three respondent\n",
    "df.loc[0:20, [\"Age\", \"EdLevel\", \"Country\"]]"
   ]
  },
  {
   "cell_type": "code",
   "execution_count": null,
   "metadata": {},
   "outputs": [],
   "source": [
    "df.loc[0:20, \"WorkWeekHrs\":\"YearsCodePro\"]"
   ]
  },
  {
   "cell_type": "code",
   "execution_count": null,
   "metadata": {},
   "outputs": [
    {
     "data": {
      "text/html": [
       "<div>\n",
       "<style scoped>\n",
       "    .dataframe tbody tr th:only-of-type {\n",
       "        vertical-align: middle;\n",
       "    }\n",
       "\n",
       "    .dataframe tbody tr th {\n",
       "        vertical-align: top;\n",
       "    }\n",
       "\n",
       "    .dataframe thead th {\n",
       "        text-align: right;\n",
       "    }\n",
       "</style>\n",
       "<table border=\"1\" class=\"dataframe\">\n",
       "  <thead>\n",
       "    <tr style=\"text-align: right;\">\n",
       "      <th></th>\n",
       "      <th>Hobbyist</th>\n",
       "      <th>Age</th>\n",
       "      <th>Age1stCode</th>\n",
       "      <th>CompFreq</th>\n",
       "    </tr>\n",
       "  </thead>\n",
       "  <tbody>\n",
       "    <tr>\n",
       "      <th>0</th>\n",
       "      <td>Yes</td>\n",
       "      <td>NaN</td>\n",
       "      <td>13</td>\n",
       "      <td>Monthly</td>\n",
       "    </tr>\n",
       "    <tr>\n",
       "      <th>1</th>\n",
       "      <td>No</td>\n",
       "      <td>NaN</td>\n",
       "      <td>19</td>\n",
       "      <td>NaN</td>\n",
       "    </tr>\n",
       "    <tr>\n",
       "      <th>2</th>\n",
       "      <td>Yes</td>\n",
       "      <td>NaN</td>\n",
       "      <td>15</td>\n",
       "      <td>NaN</td>\n",
       "    </tr>\n",
       "    <tr>\n",
       "      <th>3</th>\n",
       "      <td>Yes</td>\n",
       "      <td>25.0</td>\n",
       "      <td>18</td>\n",
       "      <td>NaN</td>\n",
       "    </tr>\n",
       "    <tr>\n",
       "      <th>4</th>\n",
       "      <td>Yes</td>\n",
       "      <td>31.0</td>\n",
       "      <td>16</td>\n",
       "      <td>NaN</td>\n",
       "    </tr>\n",
       "  </tbody>\n",
       "</table>\n",
       "</div>"
      ],
      "text/plain": [
       "  Hobbyist   Age Age1stCode CompFreq\n",
       "0      Yes   NaN         13  Monthly\n",
       "1       No   NaN         19      NaN\n",
       "2      Yes   NaN         15      NaN\n",
       "3      Yes  25.0         18      NaN\n",
       "4      Yes  31.0         16      NaN"
      ]
     },
     "execution_count": 30,
     "metadata": {},
     "output_type": "execute_result"
    }
   ],
   "source": [
    "# 1. iloc[] - Integer position-based indexing (faster)\n",
    "df.iloc[0:5, 2:6]  # sorok 0-4, oszlopok 2-5"
   ]
  },
  {
   "cell_type": "code",
   "execution_count": null,
   "metadata": {},
   "outputs": [],
   "source": [
    "# 2. Boolean indexelés - feltételek alapján\n",
    "df['YearsCodePro'] = pd.to_numeric(df['YearsCodePro'], errors='coerce')\n",
    "df[df['YearsCodePro'] > 10]"
   ]
  },
  {
   "cell_type": "code",
   "execution_count": null,
   "metadata": {},
   "outputs": [],
   "source": [
    "# 3. query() - SQL-szerű szintaxis\n",
    "df.query('YearsCodePro > 5 and WebframeWorkedWith.str.contains(\"React\", na=False)')"
   ]
  },
  {
   "cell_type": "code",
   "execution_count": null,
   "metadata": {},
   "outputs": [],
   "source": [
    "# 5. get_group() - csoportosítás utáni adatelérés\n",
    "country_groups = df.groupby('Country')\n",
    "country_groups.get_group('United States')"
   ]
  }
 ],
 "metadata": {
  "kernelspec": {
   "display_name": "Python 3",
   "language": "python",
   "name": "python3"
  },
  "language_info": {
   "codemirror_mode": {
    "name": "ipython",
    "version": 3
   },
   "file_extension": ".py",
   "mimetype": "text/x-python",
   "name": "python",
   "nbconvert_exporter": "python",
   "pygments_lexer": "ipython3",
   "version": "3.13.2"
  }
 },
 "nbformat": 4,
 "nbformat_minor": 2
}
