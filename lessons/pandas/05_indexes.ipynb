{
 "cells": [
  {
   "cell_type": "code",
   "execution_count": null,
   "id": "4aa45f0a",
   "metadata": {},
   "outputs": [],
   "source": [
    "employees_list = [\n",
    "    [1, \"Jayne\", \"Burchmore\", \"jburchmore0@unicef.org\", \"Female\", 78395, 23],\n",
    "    [2, \"Anna\", \"De Paoli\", \"adepaoli1@t.co\", \"Female\", 102972, 28],\n",
    "    [3, \"Abbott\", \"Itzchaki\", \"aitzchaki2@bloglovin.com\", \"Male\", 178876, 12]\n",
    "]\n",
    "\n",
    "columns = [\"id\", \"first_name\", \"last_name\", \"email\", \"gender\", \"yearly_salary\", \"years_of_experience\"]"
   ]
  },
  {
   "cell_type": "code",
   "execution_count": null,
   "id": "d263ee4e",
   "metadata": {},
   "outputs": [],
   "source": [
    "df3 = pd.DataFrame(employees_list, columns=columns)\n",
    "df3"
   ]
  },
  {
   "cell_type": "code",
   "execution_count": null,
   "id": "76bae182",
   "metadata": {},
   "outputs": [],
   "source": [
    "df4 = pd.read_csv(\"./files/survey_results_public.csv\", index_col='Respondent')\n",
    "df4.sort_index()"
   ]
  },
  {
   "cell_type": "code",
   "execution_count": null,
   "id": "42ca8dbc",
   "metadata": {},
   "outputs": [],
   "source": [
    "df4.sort_index()"
   ]
  },
  {
   "cell_type": "code",
   "execution_count": null,
   "id": "1a912a59",
   "metadata": {},
   "outputs": [],
   "source": [
    "df4.sort_index(ascending=False)"
   ]
  },
  {
   "cell_type": "code",
   "execution_count": null,
   "id": "dfaaf62f",
   "metadata": {},
   "outputs": [],
   "source": [
    "df.reset_index()  # új numerikus index jön létre"
   ]
  },
  {
   "cell_type": "code",
   "execution_count": null,
   "id": "4d7b1f43",
   "metadata": {},
   "outputs": [],
   "source": [
    "# Többszintű index létrehozása\n",
    "df3.set_index('email', inplace=True)\n",
    "df_multi = df3.copy()\n",
    "df_multi['domain'] = df_multi.index.str.split('@').str[1]\n",
    "df_multi = df_multi.reset_index().set_index(['domain', 'id'])\n",
    "df_multi"
   ]
  },
  {
   "cell_type": "code",
   "execution_count": null,
   "id": "73aed871",
   "metadata": {},
   "outputs": [],
   "source": [
    "# iloc: pozíció alapú indexelés (0-tól számolva)\n",
    "df.iloc[0]\n",
    "\n",
    "# loc: címke alapú indexelés (az index értékek alapján)\n",
    "df.loc['jburchmore0@unicef.org']\n",
    "\n",
    "# Több sor és oszlop kiválasztása\n",
    "df.loc[['jburchmore0@unicef.org', 'adepaoli1@t.co'], ['first_name', 'gender']]"
   ]
  }
 ],
 "metadata": {
  "language_info": {
   "name": "python"
  }
 },
 "nbformat": 4,
 "nbformat_minor": 5
}
