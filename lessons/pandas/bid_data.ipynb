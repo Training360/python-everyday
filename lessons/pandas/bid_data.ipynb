{
 "cells": [
  {
   "cell_type": "code",
   "execution_count": null,
   "id": "807fde75",
   "metadata": {},
   "outputs": [],
   "source": [
    "import pandas as pd\n",
    "\n",
    "# Initialize results (e.g., a counter or aggregation)\n",
    "total_count = 0\n",
    "sum_values = 0\n",
    "threshold = 100 \n",
    "\n",
    "# Process without storing all chunks\n",
    "for chunk in pd.read_csv(\"./large_file.csv\", chunksize=1000000):\n",
    "    # Process each chunk\n",
    "    filtered = chunk[chunk['important_column'] > threshold]\n",
    "    \n",
    "    # Update running calculations rather than storing\n",
    "    total_count += len(filtered)\n",
    "    sum_values += filtered['value_column'].sum()\n",
    "    \n",
    "    # Or write each chunk to separate output files\n",
    "    # filtered.to_csv(f\"output_{chunk_number}.csv\", index=False)\n",
    "\n",
    "# Final result is just the aggregates, not all the data\n",
    "average = sum_values / total_count if total_count > 0 else 0"
   ]
  },
  {
   "cell_type": "code",
   "execution_count": null,
   "id": "04ec2809",
   "metadata": {},
   "outputs": [],
   "source": [
    "import pandas as pd\n",
    "import concurrent.futures\n",
    "\n",
    "def process_chunk(chunk, threshold):\n",
    "    \"\"\"Process a single chunk and return results\"\"\"\n",
    "    filtered = chunk[chunk['important_column'] > threshold]\n",
    "    count = len(filtered)\n",
    "    sum_val = filtered['value_column'].sum() if count > 0 else 0\n",
    "    return (count, sum_val)\n",
    "\n",
    "# File to process\n",
    "file_path = \"./large_file.csv\"\n",
    "chunksize = 1000000  # Adjust based on memory and file size\n",
    "threshold = 100  # Example threshold\n",
    "\n",
    "chunks = pd.read_csv(file_path, chunksize=chunksize)\n",
    "\n",
    "total_count = 0\n",
    "total_sum = 0\n",
    "\n",
    "# Process in parallel with automatic process management\n",
    "with concurrent.futures.ProcessPoolExecutor() as executor:\n",
    "    results = executor.map(process_chunk, chunks, [threshold] * len(chunks))\n",
    "    \n",
    "    for count, sum_val in results:\n",
    "        total_count += count\n",
    "        total_sum += sum_val\n",
    "\n",
    "# Calculate final average\n",
    "average = total_sum / total_count if total_count > 0 else 0\n"
   ]
  }
 ],
 "metadata": {
  "language_info": {
   "name": "python"
  }
 },
 "nbformat": 4,
 "nbformat_minor": 5
}
