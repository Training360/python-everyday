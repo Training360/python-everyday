{
 "cells": [
  {
   "cell_type": "code",
   "execution_count": null,
   "id": "93753cc9",
   "metadata": {},
   "outputs": [],
   "source": [
    "# Reading Data from Various Sources with Pandas - Code Only\n",
    "\n",
    "import pandas as pd\n",
    "import numpy as np\n",
    "import requests\n",
    "import sqlite3\n",
    "import xml.etree.ElementTree as ET\n",
    "from sqlalchemy import create_engine\n"
   ]
  },
  {
   "cell_type": "code",
   "execution_count": null,
   "id": "9de0b10b",
   "metadata": {},
   "outputs": [],
   "source": [
    "\n",
    "# Display settings\n",
    "pd.set_option('display.max_columns', 10)\n",
    "pd.set_option('display.width', 1000)"
   ]
  },
  {
   "cell_type": "code",
   "execution_count": null,
   "id": "84f312ef",
   "metadata": {},
   "outputs": [],
   "source": [
    "\n",
    "# 1. CSV Reading\n",
    "df_csv = pd.read_csv('../files/employees.csv')"
   ]
  },
  {
   "cell_type": "code",
   "execution_count": null,
   "id": "3ed7018a",
   "metadata": {},
   "outputs": [],
   "source": [
    "\n",
    "# CSV with options\n",
    "df_csv_options = pd.read_csv('../files/employees-with-header.csv',\n",
    "                           sep=',',             # delimiter\n",
    "                           header=0,            # row to use as header\n",
    "                           index_col='id',      # column to use as index\n",
    "                           usecols=['id', 'first_name'],  # load specific columns\n",
    "                           nrows=5)             # only read first 5 rows\n"
   ]
  },
  {
   "cell_type": "code",
   "execution_count": null,
   "id": "4cbb8b4f",
   "metadata": {},
   "outputs": [],
   "source": [
    "\n",
    "# 2. JSON Reading, json string too\n",
    "df_json = pd.read_json('../files/employees.json')\n",
    "df_json\n"
   ]
  },
  {
   "cell_type": "code",
   "execution_count": null,
   "id": "a930ff32",
   "metadata": {},
   "outputs": [],
   "source": [
    "\n"
   ]
  },
  {
   "cell_type": "code",
   "execution_count": null,
   "id": "4b426204",
   "metadata": {},
   "outputs": [],
   "source": [
    "\n",
    "# 3. Excel Reading\n",
    "df_excel = pd.read_excel('../files/employees.xlsx')"
   ]
  },
  {
   "cell_type": "code",
   "execution_count": null,
   "id": "91b71d0b",
   "metadata": {},
   "outputs": [],
   "source": [
    "\n",
    "# Reading specific sheet\n",
    "# df_excel_sheet = pd.read_excel('../files/employees.xlsx', \n",
    "#                               sheet_name='Salaries',\n",
    "#                               skiprows=2,         # Skip first 2 rows\n",
    "#                               usecols=\"A:D\")      # Use columns A through D\n"
   ]
  },
  {
   "cell_type": "code",
   "execution_count": null,
   "id": "bfcab4c8",
   "metadata": {},
   "outputs": [],
   "source": [
    "# Reading multiple sheets\n",
    "dfs = pd.read_excel('../files/employees.xlsx', sheet_name=None)  # Returns dict of DataFrames"
   ]
  },
  {
   "cell_type": "code",
   "execution_count": null,
   "id": "9eda71af",
   "metadata": {},
   "outputs": [],
   "source": [
    "\n",
    "# 4. XML Reading\n",
    "# Need lxml package: pip install lxml\n",
    "df_xml = pd.read_xml('../files/employees.xml', xpath=\"//employee\")"
   ]
  },
  {
   "cell_type": "code",
   "execution_count": 53,
   "id": "df186330",
   "metadata": {},
   "outputs": [
    {
     "data": {
      "text/html": [
       "<div>\n",
       "<style scoped>\n",
       "    .dataframe tbody tr th:only-of-type {\n",
       "        vertical-align: middle;\n",
       "    }\n",
       "\n",
       "    .dataframe tbody tr th {\n",
       "        vertical-align: top;\n",
       "    }\n",
       "\n",
       "    .dataframe thead th {\n",
       "        text-align: right;\n",
       "    }\n",
       "</style>\n",
       "<table border=\"1\" class=\"dataframe\">\n",
       "  <thead>\n",
       "    <tr style=\"text-align: right;\">\n",
       "      <th></th>\n",
       "      <th>id</th>\n",
       "      <th>number</th>\n",
       "      <th>title</th>\n",
       "      <th>state</th>\n",
       "      <th>user.login</th>\n",
       "    </tr>\n",
       "  </thead>\n",
       "  <tbody>\n",
       "    <tr>\n",
       "      <th>0</th>\n",
       "      <td>2979660728</td>\n",
       "      <td>61254</td>\n",
       "      <td>DOC: Add documentation for groupby.expanding()</td>\n",
       "      <td>open</td>\n",
       "      <td>olek-osikowicz</td>\n",
       "    </tr>\n",
       "    <tr>\n",
       "      <th>1</th>\n",
       "      <td>2979650869</td>\n",
       "      <td>61253</td>\n",
       "      <td>BUG: Selecting the wrong first column</td>\n",
       "      <td>open</td>\n",
       "      <td>morzen</td>\n",
       "    </tr>\n",
       "    <tr>\n",
       "      <th>2</th>\n",
       "      <td>2979291332</td>\n",
       "      <td>61252</td>\n",
       "      <td>BUG: AttributeError: 'SparseArray' object has ...</td>\n",
       "      <td>open</td>\n",
       "      <td>ShuyangXu</td>\n",
       "    </tr>\n",
       "    <tr>\n",
       "      <th>3</th>\n",
       "      <td>2979048343</td>\n",
       "      <td>61251</td>\n",
       "      <td>PERF: future_stack is too slow</td>\n",
       "      <td>open</td>\n",
       "      <td>auderson</td>\n",
       "    </tr>\n",
       "    <tr>\n",
       "      <th>4</th>\n",
       "      <td>2978363392</td>\n",
       "      <td>61250</td>\n",
       "      <td>BUG: Raise error if not busdaycalendar</td>\n",
       "      <td>open</td>\n",
       "      <td>j-hendricks</td>\n",
       "    </tr>\n",
       "  </tbody>\n",
       "</table>\n",
       "</div>"
      ],
      "text/plain": [
       "           id  number                                              title state      user.login\n",
       "0  2979660728   61254     DOC: Add documentation for groupby.expanding()  open  olek-osikowicz\n",
       "1  2979650869   61253              BUG: Selecting the wrong first column  open          morzen\n",
       "2  2979291332   61252  BUG: AttributeError: 'SparseArray' object has ...  open       ShuyangXu\n",
       "3  2979048343   61251                     PERF: future_stack is too slow  open        auderson\n",
       "4  2978363392   61250             BUG: Raise error if not busdaycalendar  open     j-hendricks"
      ]
     },
     "execution_count": 53,
     "metadata": {},
     "output_type": "execute_result"
    }
   ],
   "source": [
    "\n",
    "# 6. API Reading\n",
    "# Making API request\n",
    "response = requests.get('https://api.github.com/repos/pandas-dev/pandas/issues?per_page=5')\n",
    "data = response.json()\n",
    "\n",
    "# Convert JSON response to DataFrame\n",
    "df_api = pd.json_normalize(data)\n",
    "df_api_selected = df_api[['id', 'number', 'title', 'state', 'user.login']]\n",
    "df_api_selected\n"
   ]
  },
  {
   "cell_type": "code",
   "execution_count": null,
   "id": "9ffbcb2f",
   "metadata": {},
   "outputs": [],
   "source": [
    "\n",
    "# 7. Reading from URL\n",
    "df_url = pd.read_csv('https://raw.githubusercontent.com/mwaskom/seaborn-data/master/iris.csv')"
   ]
  },
  {
   "cell_type": "code",
   "execution_count": null,
   "id": "3cea2a02",
   "metadata": {},
   "outputs": [],
   "source": [
    "\n",
    "# 9. Reading from HTML tables\n",
    "url = 'https://en.wikipedia.org/wiki/List_of_countries_by_population_(United_Nations)'\n",
    "dfs_html = pd.read_html(url)  # Returns list of DataFrames\n",
    "df_html = dfs_html[0]  # Select first table\n",
    "df_html"
   ]
  },
  {
   "cell_type": "code",
   "execution_count": null,
   "id": "96d40e4c",
   "metadata": {},
   "outputs": [],
   "source": [
    "\n",
    "# 8. Reading from clipboard (useful for spreadsheet data)\n",
    "df_clipboard = pd.read_clipboard()\n",
    "df_clipboard"
   ]
  },
  {
   "cell_type": "code",
   "execution_count": null,
   "id": "db33d33d",
   "metadata": {},
   "outputs": [],
   "source": [
    "\n",
    "# Parquet, Feather, HDF5, sqlite, Stata, SAS ...\n"
   ]
  }
 ],
 "metadata": {
  "kernelspec": {
   "display_name": "Python 3",
   "language": "python",
   "name": "python3"
  },
  "language_info": {
   "codemirror_mode": {
    "name": "ipython",
    "version": 3
   },
   "file_extension": ".py",
   "mimetype": "text/x-python",
   "name": "python",
   "nbconvert_exporter": "python",
   "pygments_lexer": "ipython3",
   "version": "3.13.2"
  }
 },
 "nbformat": 4,
 "nbformat_minor": 5
}
