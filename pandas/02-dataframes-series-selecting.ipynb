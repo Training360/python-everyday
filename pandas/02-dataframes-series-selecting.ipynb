{
 "cells": [
  {
   "cell_type": "code",
   "execution_count": null,
   "id": "945c6ecd",
   "metadata": {},
   "outputs": [],
   "source": [
    "import pandas as pd"
   ]
  },
  {
   "cell_type": "code",
   "execution_count": null,
   "id": "6338dbcc",
   "metadata": {},
   "outputs": [],
   "source": [
    "people = {\n",
    "    'first': ['John', 'Jane', 'Jeremayah'],\n",
    "    'last': ['Doe', 'Doetoo', 'Macniel'],\n",
    "    'email': ['johndoe@gmail.com', 'janedoetoo@gmail.com', 'jm@gmail.com']\n",
    "}"
   ]
  },
  {
   "cell_type": "code",
   "execution_count": null,
   "id": "427ed260",
   "metadata": {},
   "outputs": [],
   "source": [
    "# index, rows and columns\n",
    "df = pd.DataFrame(people)  "
   ]
  },
  {
   "cell_type": "code",
   "execution_count": null,
   "id": "71ebcd1c",
   "metadata": {},
   "outputs": [],
   "source": [
    "df"
   ]
  },
  {
   "cell_type": "code",
   "execution_count": null,
   "id": "7d7cc2ae",
   "metadata": {},
   "outputs": [],
   "source": [
    "# get by column name, use this primary\n",
    "df['email']     "
   ]
  },
  {
   "cell_type": "code",
   "execution_count": null,
   "id": "31686a8f",
   "metadata": {},
   "outputs": [],
   "source": [
    "# get by column name\n",
    "df.email"
   ]
  },
  {
   "cell_type": "code",
   "execution_count": null,
   "id": "5c8f7038",
   "metadata": {},
   "outputs": [],
   "source": [
    "# Series = list of data, one dimenzional array, rows of data, one column\n",
    "type(df['email'])"
   ]
  },
  {
   "cell_type": "code",
   "execution_count": null,
   "id": "0f50d314",
   "metadata": {},
   "outputs": [],
   "source": [
    "# DataFrame not Series\n",
    "df[['last', 'email']] "
   ]
  },
  {
   "cell_type": "code",
   "execution_count": null,
   "id": "5812775f",
   "metadata": {},
   "outputs": [],
   "source": [
    "df.columns"
   ]
  },
  {
   "cell_type": "code",
   "execution_count": null,
   "id": "de6261ec",
   "metadata": {},
   "outputs": [],
   "source": [
    "# the first row\n",
    "df.iloc[0]"
   ]
  },
  {
   "cell_type": "code",
   "execution_count": null,
   "id": "fde468d4",
   "metadata": {},
   "outputs": [],
   "source": [
    "# series\n",
    "type(df.iloc[0])"
   ]
  },
  {
   "cell_type": "code",
   "execution_count": null,
   "id": "29e186d9",
   "metadata": {},
   "outputs": [],
   "source": [
    "# the first two rows\n",
    "df.iloc[[0, 1]]"
   ]
  },
  {
   "cell_type": "code",
   "execution_count": null,
   "id": "ab81b4c7",
   "metadata": {},
   "outputs": [],
   "source": [
    "# the first two rows, only the 2 indexed column\n",
    "df.iloc[[0, 1], 2]"
   ]
  },
  {
   "cell_type": "code",
   "execution_count": null,
   "id": "9940e6f5",
   "metadata": {},
   "outputs": [],
   "source": [
    "# iloc: index értéke\n",
    "# loc: sor száma\n",
    "df.loc[0]"
   ]
  },
  {
   "cell_type": "code",
   "execution_count": null,
   "id": "0e8d0779",
   "metadata": {},
   "outputs": [],
   "source": [
    "df_2 = pd.DataFrame({'A': [1, 2, 3], 'B': [4, 5, 6], 'C': [\n",
    "                  7, 8, 9]}, index=['a', 'b', 'c'])\n",
    "\n",
    "# Az 'a' index alapján indexelni\n",
    "print(df_2.loc['a'])\n",
    "\n",
    "# Az 0. sor alapján indexelni\n",
    "print(df_2.iloc[0])\n"
   ]
  },
  {
   "cell_type": "code",
   "execution_count": null,
   "id": "61311f1c",
   "metadata": {},
   "outputs": [],
   "source": [
    "df.loc[[0, 1], 'email']"
   ]
  },
  {
   "cell_type": "code",
   "execution_count": null,
   "id": "533a1ae1",
   "metadata": {},
   "outputs": [],
   "source": [
    "df.loc[[0, 1], ['first', 'last']]\n"
   ]
  },
  {
   "cell_type": "code",
   "execution_count": null,
   "id": "7fe511f8",
   "metadata": {},
   "outputs": [],
   "source": [
    "df.columns"
   ]
  }
 ],
 "metadata": {
  "kernelspec": {
   "display_name": "Python 3",
   "language": "python",
   "name": "python3"
  },
  "language_info": {
   "codemirror_mode": {
    "name": "ipython",
    "version": 3
   },
   "file_extension": ".py",
   "mimetype": "text/x-python",
   "name": "python",
   "nbconvert_exporter": "python",
   "pygments_lexer": "ipython3",
   "version": "3.12.1"
  },
  "vscode": {
   "interpreter": {
    "hash": "c261aea317cc0286b3b3261fbba9abdec21eaa57589985bb7a274bf54d6cc0a7"
   }
  }
 },
 "nbformat": 4,
 "nbformat_minor": 5
}
