data_reading_project/
│
├── data/
│   ├── sample_data.csv
│   ├── sample_data.json
│   ├── sample_data.xlsx
│   └── sample_data.xml
│
├── main.py
├── requirements.txt
└── README.md